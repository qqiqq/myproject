{
 "cells": [
  {
   "cell_type": "code",
   "execution_count": 11,
   "metadata": {},
   "outputs": [],
   "source": [
    "def test1(s,p,r):\n",
    "    n = len(s)\n",
    "    m = len(p)\n",
    "    i,j,x = 0,0,0\n",
    "    if m>=n:\n",
    "        return s\n",
    "    while i<n and j<m:\n",
    "        print s[i] + \" \" + p[j]\n",
    "        if s[i] == p[j]:\n",
    "            i += 1\n",
    "            j += 1\n",
    "            continue\n",
    "        i += 1\n",
    "    if j==m:\n",
    "        return s[:i-j]+r+s[i+1:]\n",
    "    return \"can't find \" + p"
   ]
  },
  {
   "cell_type": "code",
   "execution_count": 4,
   "metadata": {},
   "outputs": [
    {
     "name": "stdout",
     "output_type": "stream",
     "text": [
      "this (just a replace)test for python string replace\n"
     ]
    }
   ],
   "source": [
    "s = \"this is a test for python string replace\"\n",
    "print s[:5]+\"(just a replace)\"+s[10:]\n"
   ]
  },
  {
   "cell_type": "code",
   "execution_count": 12,
   "metadata": {},
   "outputs": [
    {
     "name": "stdout",
     "output_type": "stream",
     "text": [
      "t i\n",
      "h i\n",
      "i i\n",
      "s s\n",
      "thareis a test for python string replace\n"
     ]
    }
   ],
   "source": [
    "print test1(s,\"is\",\"are\")"
   ]
  },
  {
   "cell_type": "code",
   "execution_count": 13,
   "metadata": {},
   "outputs": [],
   "source": [
    "import re\n",
    "a = re.split('[ ,;]*',r'test, for ;  python,string replace')"
   ]
  },
  {
   "cell_type": "code",
   "execution_count": 14,
   "metadata": {},
   "outputs": [
    {
     "data": {
      "text/plain": [
       "['test', 'for', 'python', 'string', 'replace']"
      ]
     },
     "execution_count": 14,
     "metadata": {},
     "output_type": "execute_result"
    }
   ],
   "source": [
    "a"
   ]
  },
  {
   "cell_type": "code",
   "execution_count": 18,
   "metadata": {},
   "outputs": [],
   "source": [
    "def tokens(seps,string):\n",
    "    import re\n",
    "    pat = re.compile(seps)\n",
    "    return re.split('[ ,;]*',string)"
   ]
  },
  {
   "cell_type": "code",
   "execution_count": 19,
   "metadata": {},
   "outputs": [
    {
     "name": "stdout",
     "output_type": "stream",
     "text": [
      "['test', 'for', 'python', 'string', 'replace']\n"
     ]
    }
   ],
   "source": [
    "print tokens(r\"[ ,;]*\",r\"test, for ;  python,string replace\")"
   ]
  },
  {
   "cell_type": "code",
   "execution_count": 10,
   "metadata": {},
   "outputs": [
    {
     "name": "stdout",
     "output_type": "stream",
     "text": [
      "24\n"
     ]
    }
   ],
   "source": [
    "# 自定义单链节点\n",
    "class LNode:\n",
    "    def __init__(self, elm, nxt):\n",
    "        self.elem = elm\n",
    "        self.next = nxt\n",
    "\n",
    "class StrLnode:\n",
    "    def __init__(self):\n",
    "        self.head = None\n",
    "    \n",
    "    def __len__(self):\n",
    "        sLen = 0\n",
    "        p = self.head\n",
    "        while p != None:\n",
    "            p = p.next\n",
    "            sLen += 1\n",
    "        return sLen\n",
    "    \n",
    "    def append(self, elem):\n",
    "        if self.head is None:\n",
    "            self.head = LNode(elem, None)\n",
    "            return\n",
    "        p = self.head\n",
    "        while p.next is not None:\n",
    "            p = p.next\n",
    "        p.next = LNode(elem, None)\n",
    "        \n",
    "    \n",
    "    def lStrPrint(self):\n",
    "        if self.head == None:\n",
    "            return 0\n",
    "        p = self.head\n",
    "        while p != None:\n",
    "            print p.elem\n",
    "            p = p.next\n",
    "    \n",
    "    def subNaive(self,sub):\n",
    "        \n",
    "\n",
    "\n",
    "if __name__ == '__main__':\n",
    "    text = 'vagrantxiang@hotmail.com'\n",
    "    lStr = StrLnode()\n",
    "    for s in text:\n",
    "        lStr.append(s)\n",
    "    print len(lStr)\n"
   ]
  },
  {
   "cell_type": "code",
   "execution_count": null,
   "metadata": {},
   "outputs": [],
   "source": []
  }
 ],
 "metadata": {
  "kernelspec": {
   "display_name": "Python 2",
   "language": "python",
   "name": "python2"
  },
  "language_info": {
   "codemirror_mode": {
    "name": "ipython",
    "version": 2
   },
   "file_extension": ".py",
   "mimetype": "text/x-python",
   "name": "python",
   "nbconvert_exporter": "python",
   "pygments_lexer": "ipython2",
   "version": "2.7.14"
  }
 },
 "nbformat": 4,
 "nbformat_minor": 2
}
